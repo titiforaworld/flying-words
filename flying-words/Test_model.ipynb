{
 "cells": [
  {
   "cell_type": "code",
   "execution_count": 1,
   "id": "d5404452",
   "metadata": {
    "ExecuteTime": {
     "end_time": "2022-05-30T12:17:59.909723Z",
     "start_time": "2022-05-30T12:17:59.543156Z"
    }
   },
   "outputs": [
    {
     "ename": "ModuleNotFoundError",
     "evalue": "No module named 'azure'",
     "output_type": "error",
     "traceback": [
      "\u001b[0;31m---------------------------------------------------------------------------\u001b[0m",
      "\u001b[0;31mModuleNotFoundError\u001b[0m                       Traceback (most recent call last)",
      "Input \u001b[0;32mIn [1]\u001b[0m, in \u001b[0;36m<cell line: 1>\u001b[0;34m()\u001b[0m\n\u001b[0;32m----> 1\u001b[0m \u001b[38;5;28;01mimport\u001b[39;00m \u001b[38;5;21;01mazure\u001b[39;00m\u001b[38;5;21;01m.\u001b[39;00m\u001b[38;5;21;01mcognitiveservices\u001b[39;00m\u001b[38;5;21;01m.\u001b[39;00m\u001b[38;5;21;01mspeech\u001b[39;00m \u001b[38;5;28;01mas\u001b[39;00m \u001b[38;5;21;01mspeechsdk\u001b[39;00m\n\u001b[1;32m      2\u001b[0m \u001b[38;5;28;01mfrom\u001b[39;00m \u001b[38;5;21;01mdotenv\u001b[39;00m \u001b[38;5;28;01mimport\u001b[39;00m load_dotenv\n\u001b[1;32m      3\u001b[0m \u001b[38;5;28;01mimport\u001b[39;00m \u001b[38;5;21;01mos\u001b[39;00m\n",
      "\u001b[0;31mModuleNotFoundError\u001b[0m: No module named 'azure'"
     ]
    }
   ],
   "source": [
    "import azure.cognitiveservices.speech as speechsdk\n",
    "from dotenv import load_dotenv\n",
    "import os\n",
    "import time\n",
    "from msd.SpeakerDiarizer import SpeakerDiarizer"
   ]
  },
  {
   "cell_type": "code",
   "execution_count": 2,
   "id": "d90cc5fe",
   "metadata": {
    "ExecuteTime": {
     "end_time": "2022-05-30T12:18:00.026611Z",
     "start_time": "2022-05-30T12:17:59.990849Z"
    }
   },
   "outputs": [
    {
     "ename": "NameError",
     "evalue": "name 'SpeakerDiarizer' is not defined",
     "output_type": "error",
     "traceback": [
      "\u001b[0;31m---------------------------------------------------------------------------\u001b[0m",
      "\u001b[0;31mNameError\u001b[0m                                 Traceback (most recent call last)",
      "Input \u001b[0;32mIn [2]\u001b[0m, in \u001b[0;36m<cell line: 1>\u001b[0;34m()\u001b[0m\n\u001b[0;32m----> 1\u001b[0m \u001b[38;5;28;01mclass\u001b[39;00m \u001b[38;5;21;01mSpeakerAward\u001b[39;00m(\u001b[43mSpeakerDiarizer\u001b[49m):\n\u001b[1;32m      2\u001b[0m     \n\u001b[1;32m      3\u001b[0m     \u001b[38;5;66;03m#Attributes\u001b[39;00m\n\u001b[1;32m      4\u001b[0m     load_dotenv()\n\u001b[1;32m      5\u001b[0m     speech_config \u001b[38;5;241m=\u001b[39m speechsdk\u001b[38;5;241m.\u001b[39mSpeechConfig(subscription\u001b[38;5;241m=\u001b[39mos\u001b[38;5;241m.\u001b[39mgetenv(\u001b[38;5;124m'\u001b[39m\u001b[38;5;124mAZURE_API_KEY\u001b[39m\u001b[38;5;124m'\u001b[39m), region\u001b[38;5;241m=\u001b[39m\u001b[38;5;124m\"\u001b[39m\u001b[38;5;124mfrancecentral\u001b[39m\u001b[38;5;124m\"\u001b[39m, speech_recognition_language \u001b[38;5;241m=\u001b[39m \u001b[38;5;124m'\u001b[39m\u001b[38;5;124mfr-FR\u001b[39m\u001b[38;5;124m'\u001b[39m)\n",
      "\u001b[0;31mNameError\u001b[0m: name 'SpeakerDiarizer' is not defined"
     ]
    }
   ],
   "source": [
    "\n",
    "\n",
    "class SpeakerAward(SpeakerDiarizer):\n",
    "    \n",
    "    #Attributes\n",
    "    load_dotenv()\n",
    "    speech_config = speechsdk.SpeechConfig(subscription=os.getenv('AZURE_API_KEY'), region=\"francecentral\", speech_recognition_language = 'fr-FR')\n",
    "    \n",
    "    def __init__(self, name_pipe):\n",
    "        self.json_outputs = None\n",
    "        super().__init__(name_pipe)\n",
    "        self.time_to_sub = 0\n",
    "        \n",
    "    def get_json(self):\n",
    "        self.json_outputs = []\n",
    "        for count, (segment, _, label) in enumerate(self.diarization.itertracks(yield_label=True)):\n",
    "            if count == len(self.profil_paths)-1:\n",
    "                self.time_to_sub = segment.end - 0.0000001\n",
    "            if segment.start - self.time_to_sub > self.current_filename.duration_seconds :\n",
    "                break\n",
    "            t1 = segment.start * 1000 #Works in milliseconds\n",
    "            t2 = (segment.start+segment.duration) * 1000\n",
    "            newAudio = self.audio_profiles[t1:t2]\n",
    "            newAudio.export(f\"temp.wav\", format=\"wav\")\n",
    "            audio_config = speechsdk.audio.AudioConfig(filename=\"temp.wav\")\n",
    "            speech_recognizer = speechsdk.SpeechRecognizer(speech_config=self.speech_config, audio_config=audio_config)\n",
    "            result = speech_recognizer.recognize_once_async().get()\n",
    "            if result.text == \"\":\n",
    "                continue\n",
    "            self.json_outputs.append({'speaker':label,\n",
    "                                      'start': time.strftime(\"%H:%M:%S\",time.gmtime(t1/1000-self.time_to_sub)),\n",
    "                                      'end': time.strftime(\"%H:%M:%S\",time.gmtime(t2/1000-self.time_to_sub)),\n",
    "                                      'text':result.text})\n",
    "        for count,profil in enumerate(self.profil_paths):\n",
    "            name = profil.split(\"/\")[-1][:-4]\n",
    "            speaker_letter = self.json_outputs[len(self.profil_paths) - count - 1]['speaker']\n",
    "            for segment in self.json_outputs[len(self.profil_paths):]:\n",
    "                if segment['speaker'] == speaker_letter :\n",
    "                    segment['speaker'] = name\n",
    "        os.remove(\"temp.wav\")\n",
    "        return self.json_outputs[len(self.profil_paths):]"
   ]
  },
  {
   "cell_type": "code",
   "execution_count": null,
   "id": "2dbf0a10",
   "metadata": {},
   "outputs": [],
   "source": []
  }
 ],
 "metadata": {
  "kernelspec": {
   "display_name": "Python 3 (ipykernel)",
   "language": "python",
   "name": "python3"
  },
  "language_info": {
   "codemirror_mode": {
    "name": "ipython",
    "version": 3
   },
   "file_extension": ".py",
   "mimetype": "text/x-python",
   "name": "python",
   "nbconvert_exporter": "python",
   "pygments_lexer": "ipython3",
   "version": "3.8.13"
  },
  "toc": {
   "base_numbering": 1,
   "nav_menu": {},
   "number_sections": true,
   "sideBar": true,
   "skip_h1_title": false,
   "title_cell": "Table of Contents",
   "title_sidebar": "Contents",
   "toc_cell": false,
   "toc_position": {},
   "toc_section_display": true,
   "toc_window_display": false
  },
  "varInspector": {
   "cols": {
    "lenName": 16,
    "lenType": 16,
    "lenVar": 40
   },
   "kernels_config": {
    "python": {
     "delete_cmd_postfix": "",
     "delete_cmd_prefix": "del ",
     "library": "var_list.py",
     "varRefreshCmd": "print(var_dic_list())"
    },
    "r": {
     "delete_cmd_postfix": ") ",
     "delete_cmd_prefix": "rm(",
     "library": "var_list.r",
     "varRefreshCmd": "cat(var_dic_list()) "
    }
   },
   "types_to_exclude": [
    "module",
    "function",
    "builtin_function_or_method",
    "instance",
    "_Feature"
   ],
   "window_display": true
  }
 },
 "nbformat": 4,
 "nbformat_minor": 5
}
